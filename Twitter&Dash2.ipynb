{
 "cells": [
  {
   "cell_type": "code",
   "execution_count": 31,
   "metadata": {},
   "outputs": [],
   "source": [
    "import pandas as pd\n",
    "import sqlite3\n",
    "import dash\n",
    "from dash.dependencies import Output, Input,State\n",
    "import dash_core_components as dcc\n",
    "import dash_html_components as html\n",
    "import plotly\n",
    "import random\n",
    "import plotly.graph_objects as go\n",
    "from collections import deque\n",
    "import datetime\n",
    "import time"
   ]
  },
  {
   "cell_type": "code",
   "execution_count": null,
   "metadata": {},
   "outputs": [
    {
     "name": "stdout",
     "output_type": "stream",
     "text": [
      " * Serving Flask app \"__main__\" (lazy loading)\n",
      " * Environment: production\n",
      "   WARNING: This is a development server. Do not use it in a production deployment.\n",
      "   Use a production WSGI server instead.\n",
      " * Debug mode: off\n"
     ]
    }
   ],
   "source": [
    "app = dash.Dash(__name__)\n",
    "\n",
    "\n",
    "app.layout = html.Div(\n",
    "    [   html.H2('Live Twitter Sentiment'),\n",
    "        dcc.Input(id='sentiment_term', value='god', type='text'),\n",
    "        dcc.Graph(id='live-graph', animate=True),\n",
    "        dcc.Interval(\n",
    "            id='graph-update',\n",
    "            interval=1*1000\n",
    "        ),\n",
    "    ]\n",
    ")\n",
    "@app.callback(Output('live-graph', 'figure'),\n",
    "              [Input('sentiment_term', 'value'),Input('graph-update', 'n_intervals')])\n",
    "\n",
    "def update_graph_scatter(sentiment_term,interval):\n",
    "    try:\n",
    "        conn = sqlite3.connect('twitter.db')\n",
    "        c = conn.cursor()\n",
    "        df = pd.read_sql(\"SELECT * FROM sentiment WHERE tweet LIKE ? ORDER BY unix DESC LIMIT 1000\", conn ,params=('%' + sentiment_term + '%',))\n",
    " \n",
    "\n",
    "        df.sort_values('unix', inplace=True)\n",
    "        df['sentiment_smoothed'] = df['sentiment'].rolling(int(len(df)/2)).mean()\n",
    "\n",
    "        df['date'] = pd.to_datetime(df['unix'],unit='ms')\n",
    "        df.set_index('date', inplace=True)\n",
    "\n",
    "        df = df.resample('1min').mean()\n",
    "        df.dropna(inplace=True)\n",
    "        X = df.index\n",
    "        Y = df.sentiment_smoothed\n",
    "\n",
    "        data = plotly.graph_objs.Scatter(\n",
    "                x=X,\n",
    "                y=Y,\n",
    "                name='Scatter',\n",
    "                mode= 'lines+markers'\n",
    "                )\n",
    "\n",
    "        return {'data': [data],'layout' : go.Layout(xaxis=dict(range=[min(X),max(X)]),\n",
    "                                                    yaxis=dict(range=[min(Y),max(Y)]),\n",
    "                                                    title='Term: {}'.format(sentiment_term))}\n",
    "\n",
    "    except Exception as e:\n",
    "        with open('errors.txt','a') as f:\n",
    "            f.write(str(e))\n",
    "            f.write('\\n')\n",
    "\n",
    "if __name__ == '__main__':\n",
    "    app.run_server()"
   ]
  },
  {
   "cell_type": "code",
   "execution_count": null,
   "metadata": {},
   "outputs": [],
   "source": []
  }
 ],
 "metadata": {
  "kernelspec": {
   "display_name": "Python 3",
   "language": "python",
   "name": "python3"
  },
  "language_info": {
   "codemirror_mode": {
    "name": "ipython",
    "version": 3
   },
   "file_extension": ".py",
   "mimetype": "text/x-python",
   "name": "python",
   "nbconvert_exporter": "python",
   "pygments_lexer": "ipython3",
   "version": "3.8.3"
  }
 },
 "nbformat": 4,
 "nbformat_minor": 4
}
