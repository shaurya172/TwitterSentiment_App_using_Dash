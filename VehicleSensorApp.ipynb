{
 "cells": [
  {
   "cell_type": "code",
   "execution_count": 2,
   "metadata": {},
   "outputs": [],
   "source": [
    "import dash\n",
    "import dash_core_components as dcc\n",
    "import dash_html_components as html\n",
    "import time\n",
    "from collections import deque\n",
    "import plotly.graph_objs as go\n",
    "import random"
   ]
  },
  {
   "cell_type": "code",
   "execution_count": 4,
   "metadata": {},
   "outputs": [],
   "source": [
    "app = dash.Dash('vehicle-data')\n",
    "\n",
    "max_length = 50\n",
    "times = deque(maxlen = max_length)\n",
    "oil_temps = deque(maxlen = max_length)\n",
    "intake_temps = deque(maxlen = max_length)\n",
    "coolant_temps = deque(maxlen = max_length)\n",
    "rpms = deque(maxlen=max_length)\n",
    "speeds = deque(maxlen=max_length)\n",
    "throttle_pos = deque(maxlen=max_length)\n",
    "rpms = deque(maxlen=max_length)\n",
    "speeds = deque(maxlen=max_length)\n",
    "throttle_pos = deque(maxlen=max_length)"
   ]
  },
  {
   "cell_type": "code",
   "execution_count": 5,
   "metadata": {},
   "outputs": [],
   "source": [
    "data_dict = {\"Oil Temperature\":oil_temps,\n",
    "\"Intake Temperature\": intake_temps,\n",
    "\"Coolant Temperature\": coolant_temps,\n",
    "\"RPM\":rpms,\n",
    "\"Speed\":speeds,\n",
    "\"Throttle Position\":throttle_pos}"
   ]
  },
  {
   "cell_type": "code",
   "execution_count": 6,
   "metadata": {},
   "outputs": [],
   "source": [
    "def update_obd_values(times, oil_temps, intake_temps, coolant_temps, rpms, speeds, throttle_pos):\n",
    "\n",
    "    times.append(time.time())\n",
    "    if len(times) == 1:\n",
    "        #starting relevant values\n",
    "        oil_temps.append(random.randrange(180,230))\n",
    "        intake_temps.append(random.randrange(95,115))\n",
    "        coolant_temps.append(random.randrange(170,220))\n",
    "        rpms.append(random.randrange(1000,9500))\n",
    "        speeds.append(random.randrange(30,140))\n",
    "        throttle_pos.append(random.randrange(10,90))\n",
    "    else:\n",
    "        for data_of_interest in [oil_temps, intake_temps, coolant_temps, rpms, speeds, throttle_pos]:\n",
    "            data_of_interest.append(data_of_interest[-1]+data_of_interest[-1]*random.uniform(-0.0001,0.0001))\n",
    "\n",
    "    return times, oil_temps, intake_temps, coolant_temps, rpms, speeds, throttle_pos\n",
    "\n",
    "times, oil_temps, intake_temps, coolant_temps, rpms, speeds, throttle_pos = update_obd_values(times, oil_temps, intake_temps, coolant_temps, rpms, speeds, throttle_pos)"
   ]
  },
  {
   "cell_type": "code",
   "execution_count": 7,
   "metadata": {},
   "outputs": [],
   "source": [
    "app.layout = html.Div([\n",
    "    html.Div([\n",
    "        html.H2('Vehicle Data',\n",
    "                style={'float': 'left',\n",
    "                       }),\n",
    "        ]),\n",
    "    dcc.Dropdown(id='vehicle-data-name',\n",
    "                 options=[{'label': s, 'value': s}\n",
    "                          for s in data_dict.keys()],\n",
    "                 value=['Coolant Temperature','Oil Temperature','Intake Temperature'],\n",
    "                 multi=True\n",
    "                 ),\n",
    "    html.Div(children=html.Div(id='graphs'), className='row'),\n",
    "    dcc.Interval(\n",
    "        id='graph-update',\n",
    "        interval=100),\n",
    "    ], className=\"container\",style={'width':'98%','margin-left':10,'margin-right':10,'max-width':50000})"
   ]
  },
  {
   "cell_type": "code",
   "execution_count": 22,
   "metadata": {},
   "outputs": [
    {
     "ename": "SyntaxError",
     "evalue": "unexpected EOF while parsing (<ipython-input-22-5c586a69eafd>, line 1)",
     "output_type": "error",
     "traceback": [
      "\u001b[1;36m  File \u001b[1;32m\"<ipython-input-22-5c586a69eafd>\"\u001b[1;36m, line \u001b[1;32m1\u001b[0m\n\u001b[1;33m    @app.callback\u001b[0m\n\u001b[1;37m                 ^\u001b[0m\n\u001b[1;31mSyntaxError\u001b[0m\u001b[1;31m:\u001b[0m unexpected EOF while parsing\n"
     ]
    }
   ],
   "source": [
    "@app.callback"
   ]
  },
  {
   "cell_type": "code",
   "execution_count": null,
   "metadata": {},
   "outputs": [],
   "source": []
  }
 ],
 "metadata": {
  "kernelspec": {
   "display_name": "Python 3",
   "language": "python",
   "name": "python3"
  },
  "language_info": {
   "codemirror_mode": {
    "name": "ipython",
    "version": 3
   },
   "file_extension": ".py",
   "mimetype": "text/x-python",
   "name": "python",
   "nbconvert_exporter": "python",
   "pygments_lexer": "ipython3",
   "version": "3.8.3rc1"
  }
 },
 "nbformat": 4,
 "nbformat_minor": 4
}
